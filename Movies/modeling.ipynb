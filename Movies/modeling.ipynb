{
 "cells": [
  {
   "cell_type": "code",
   "execution_count": 343,
   "id": "9cb99f78",
   "metadata": {},
   "outputs": [],
   "source": [
    "import pandas as pd\n",
    "import numpy as np\n",
    "import matplotlib.pyplot as plt\n",
    "import matplotlib.patches as mpatches\n",
    "import seaborn as sns\n"
   ]
  },
  {
   "cell_type": "code",
   "execution_count": 344,
   "id": "60c31bf2",
   "metadata": {},
   "outputs": [],
   "source": [
    "X_train = pd.read_csv('preprocessed_data/X_train.csv')\n",
    "X_test = pd.read_csv('preprocessed_data/X_test.csv')\n",
    "X_train_sc = pd.read_csv('preprocessed_data/X_sc_train.csv')\n",
    "X_test_sc = pd.read_csv('preprocessed_data/X_sc_test.csv')\n",
    "y_train = pd.read_csv('preprocessed_data/y_train.csv')\n",
    "y_test = pd.read_csv('preprocessed_data/y_test.csv')\n",
    "\n",
    "y_train = y_train.values.ravel()\n",
    "y_test = y_test.values.ravel()"
   ]
  },
  {
   "cell_type": "code",
   "execution_count": 345,
   "id": "2aebe4f2",
   "metadata": {},
   "outputs": [],
   "source": [
    "from tqdm.notebook import tqdm, trange\n",
    "import time  \n"
   ]
  },
  {
   "cell_type": "markdown",
   "id": "7697f17a",
   "metadata": {},
   "source": [
    "***Linear Regressor***"
   ]
  },
  {
   "cell_type": "markdown",
   "id": "ebf2c5c7",
   "metadata": {},
   "source": [
    "We will begin by trying a simple linear regression and evaluating its appropriateness for our data."
   ]
  },
  {
   "cell_type": "code",
   "execution_count": 346,
   "id": "93686dbb",
   "metadata": {},
   "outputs": [
    {
     "name": "stdout",
     "output_type": "stream",
     "text": [
      "Cross validation scores of 5 linear regressions: [0.31237982 0.39247241 0.34650944 0.3731394  0.33090412]\n",
      "Mean cross validation train score:  0.351\n",
      "Standard deviation in cv scores:  0.029\n",
      "Linear regression r2 score on the training data:  0.493\n",
      "Linear regression r2 score on the test data:  0.402\n",
      "Root Mean Squared Error:  2.272\n"
     ]
    }
   ],
   "source": [
    "from sklearn.linear_model import LinearRegression\n",
    "from sklearn.model_selection import GridSearchCV\n",
    "from sklearn.model_selection import cross_val_score\n",
    "from sklearn.metrics import mean_squared_error\n",
    "\n",
    "\n",
    "\n",
    "linreg=LinearRegression()\n",
    "scores = cross_val_score(linreg, X_train, y_train, scoring='r2', cv=5)\n",
    "print('Cross validation scores of 5 linear regressions:',scores)\n",
    "print ('Mean cross validation train score: ',round(np.mean(scores),3))\n",
    "print ('Standard deviation in cv scores: ',round(np.std(scores),3))\n",
    "\n",
    "linreg.fit(X_train,y_train)\n",
    "print('Linear regression r2 score on the training data: ',round(linreg.score(X_train,y_train),3))\n",
    "print('Linear regression r2 score on the test data: ',round(linreg.score(X_test,y_test),3))\n",
    "y_pred = linreg.predict(X_test)\n",
    "\n",
    "\n",
    "lr_rmse= (mean_squared_error(y_test, y_pred,squared=False))\n",
    "print('Root Mean Squared Error: ',round(lr_rmse,3))\n",
    "\n"
   ]
  },
  {
   "cell_type": "code",
   "execution_count": 347,
   "id": "09707d75",
   "metadata": {},
   "outputs": [
    {
     "data": {
      "image/png": "[encoded data removed]",
      "text/plain": [
       "<Figure size 432x288 with 1 Axes>"
      ]
     },
     "metadata": {
      "needs_background": "light"
     },
     "output_type": "display_data"
    }
   ],
   "source": [
    "data = pd.DataFrame(data=y_pred,columns=['predicted values'])\n",
    "data['test values']=(y_test)\n",
    "\n",
    "\n",
    "#sns.scatterplot(np.log(data['actual']),np.log(data['test']))\n",
    "a =plt.hist(data['test values'],bins=30,color='blue')\n",
    "b =plt.hist(data['predicted values'],alpha=0.5,bins=30,color='red')\n",
    "\n",
    "\n",
    "red_patch = mpatches.Patch(color='red', label='Predicted values')\n",
    "blue_patch = mpatches.Patch(color='blue',label='Test values')\n",
    "plt.legend(handles=[red_patch,blue_patch])\n",
    "plt.ylabel('Count')\n",
    "plt.xlabel('Log of film revenue')\n",
    "plt.title('Predicted and test value distributions')\n",
    "plt.show()\n"
   ]
  },
  {
   "cell_type": "markdown",
   "id": "40e39f71",
   "metadata": {},
   "source": [
    "Linear regression is not a good fit for our model. This regression model does not explain the majority of the variance in our target variable (the log of revenue)."
   ]
  },
  {
   "cell_type": "markdown",
   "id": "77fc2d8a",
   "metadata": {},
   "source": [
    "***KNeighborsRegressor***"
   ]
  },
  {
   "cell_type": "code",
   "execution_count": 348,
   "id": "2162b2f6",
   "metadata": {},
   "outputs": [
    {
     "data": {
      "text/plain": [
       "GridSearchCV(cv=5, estimator=KNeighborsRegressor(),\n",
       "             param_grid={'n_neighbors': range(1, 50),\n",
       "                         'weights': ['distance', 'uniform']})"
      ]
     },
     "execution_count": 348,
     "metadata": {},
     "output_type": "execute_result"
    }
   ],
   "source": [
    "from sklearn.neighbors import KNeighborsRegressor\n",
    "from sklearn.model_selection import GridSearchCV\n",
    "\n",
    "param_grid = {'n_neighbors':range(1,50),\n",
    "             'weights':['distance','uniform']}\n",
    "\n",
    "knn = KNeighborsRegressor()\n",
    "knn_cv= GridSearchCV(knn,param_grid,cv=5)\n",
    "knn_cv.fit(X_train,y_train)\n",
    "\n"
   ]
  },
  {
   "cell_type": "code",
   "execution_count": 349,
   "id": "6bc6de3a",
   "metadata": {},
   "outputs": [
    {
     "name": "stdout",
     "output_type": "stream",
     "text": [
      "Best Score:0.4193610649424687\n",
      "Best Parameters: {'n_neighbors': 11, 'weights': 'distance'}\n"
     ]
    }
   ],
   "source": [
    "print(\"Best Score:\" + str(knn_cv.best_score_))\n",
    "print(\"Best Parameters: \" + str(knn_cv.best_params_))\n"
   ]
  },
  {
   "cell_type": "code",
   "execution_count": 350,
   "id": "a4602499",
   "metadata": {},
   "outputs": [
    {
     "name": "stdout",
     "output_type": "stream",
     "text": [
      "Cross validation scores of 5 linear regressions: [0.31965109 0.40464756 0.44903137 0.48839481 0.39125575]\n",
      "Mean cross validation train score:  0.411\n",
      "Standard deviation in cv scores:  0.057\n",
      "Linear regression r2 score on the training data:  0.524\n",
      "Linear regression r2 score on the test data:  0.432\n",
      "Root Mean Squared Error:  2.214\n"
     ]
    }
   ],
   "source": [
    "knn= KNeighborsRegressor(n_neighbors=11)\n",
    "\n",
    "\n",
    "scores = cross_val_score(knn,X_train,y_train,scoring='r2',cv=5)\n",
    "print('Cross validation scores of 5 linear regressions:',scores)\n",
    "print ('Mean cross validation train score: ',round(np.mean(scores),3))\n",
    "print ('Standard deviation in cv scores: ',round(np.std(scores),3))\n",
    "knn.fit(X_train,y_train)\n",
    "print('Linear regression r2 score on the training data: ',round(knn.score(X_train,y_train),3))\n",
    "print('Linear regression r2 score on the test data: ',round(knn.score(X_test,y_test),3))\n",
    "y_pred = knn.predict(X_test)\n",
    "lr_rmse = (mean_squared_error(y_test, y_pred,squared=False))\n",
    "print('Root Mean Squared Error: ',round(lr_rmse,3))\n",
    "\n"
   ]
  },
  {
   "cell_type": "markdown",
   "id": "eef70737",
   "metadata": {},
   "source": [
    "This model is slightly improved, but still has low r2 score."
   ]
  },
  {
   "cell_type": "markdown",
   "id": "eff6e39e",
   "metadata": {},
   "source": [
    "***Random Forest Regressor***"
   ]
  },
  {
   "cell_type": "code",
   "execution_count": 463,
   "id": "4a6454f5",
   "metadata": {},
   "outputs": [
    {
     "data": {
      "text/plain": [
       "GridSearchCV(cv=5, estimator=RandomForestRegressor(n_jobs=-1),\n",
       "             param_grid={'max_depth': range(1, 10),\n",
       "                         'n_estimators': [100, 110, 120, 125, 130, 140]})"
      ]
     },
     "execution_count": 463,
     "metadata": {},
     "output_type": "execute_result"
    }
   ],
   "source": [
    "param_grid = {'n_estimators':[100,110,120,125,130,140],\n",
    "             'max_depth':range(1,10)}\n",
    "\n",
    "rfr = RandomForestRegressor(n_jobs=-1)\n",
    "rfr_cv= GridSearchCV(rfr,param_grid,cv=5)\n",
    "rfr_cv.fit(X_train,y_train)\n"
   ]
  },
  {
   "cell_type": "code",
   "execution_count": 464,
   "id": "6eb20cbf",
   "metadata": {},
   "outputs": [
    {
     "name": "stdout",
     "output_type": "stream",
     "text": [
      "Best Score:0.4931099389821186\n",
      "Best Parameters: {'max_depth': 9, 'n_estimators': 120}\n"
     ]
    }
   ],
   "source": [
    "print(\"Best Score:\" + str(rfr_cv.best_score_))\n",
    "print(\"Best Parameters: \" + str(rfr_cv.best_params_))\n"
   ]
  },
  {
   "cell_type": "code",
   "execution_count": 466,
   "id": "3706bcfd",
   "metadata": {},
   "outputs": [
    {
     "name": "stdout",
     "output_type": "stream",
     "text": [
      "Cross validation scores of 5 linear regressions: [0.45994297 0.53247817 0.49240997 0.49558894 0.45758396]\n",
      "Mean cross validation train score:  0.488\n",
      "Standard deviation in cv scores:  0.027\n",
      "Linear regression r2 score on the training data:  0.812\n",
      "Linear regression r2 score on the test data:  0.489\n",
      "Root Mean Squared Error:  2.101\n"
     ]
    }
   ],
   "source": [
    "rgr= RandomForestRegressor(max_depth=9,n_estimators=120)\n",
    "\n",
    "\n",
    "scores = cross_val_score(rgr,X_train,y_train,scoring='r2',cv=5)\n",
    "print('Cross validation scores of 5 linear regressions:',scores)\n",
    "print ('Mean cross validation train score: ',round(np.mean(scores),3))\n",
    "print ('Standard deviation in cv scores: ',round(np.std(scores),3))\n",
    "rgr.fit(X_train,y_train)\n",
    "print('Linear regression r2 score on the training data: ',round(rgr.score(X_train,y_train),3))\n",
    "print('Linear regression r2 score on the test data: ',round(rgr.score(X_test,y_test),3))\n",
    "y_pred = rgr.predict(X_test)\n",
    "lr_rmse = (mean_squared_error(y_test, y_pred,squared=False))\n",
    "print('Root Mean Squared Error: ',round(lr_rmse,3))\n",
    "\n"
   ]
  },
  {
   "cell_type": "markdown",
   "id": "daa7b10a",
   "metadata": {},
   "source": [
    "Again, this model is somewhat of an improvement, but still cannot account for even half the variation of the target variable in the test data."
   ]
  },
  {
   "cell_type": "markdown",
   "id": "4afb8c6b",
   "metadata": {},
   "source": [
    "***XGBoost***"
   ]
  },
  {
   "cell_type": "code",
   "execution_count": 480,
   "id": "9e8b9a15",
   "metadata": {},
   "outputs": [],
   "source": [
    "from xgboost.sklearn import XGBRegressor\n"
   ]
  },
  {
   "cell_type": "code",
   "execution_count": 459,
   "id": "2e14d851",
   "metadata": {},
   "outputs": [
    {
     "name": "stdout",
     "output_type": "stream",
     "text": [
      "Fitting 5 folds for each of 8 candidates, totalling 40 fits\n",
      "0.6040253122200036\n",
      "{'colsample_bytree': 0.4, 'learning_rate': 0.05, 'max_depth': 4, 'min_child_weight': 6, 'n_estimators': 325, 'n_jobs': -1, 'objective': 'reg:squarederror', 'subsample': 1}\n"
     ]
    }
   ],
   "source": [
    "xgb = XGBRegressor()\n",
    "parameters = { 'n_jobs':[-1],\n",
    "              'objective':['reg:squarederror'],\n",
    "              'learning_rate': [0.05,0.1], \n",
    "              'max_depth': [4,5],\n",
    "              'min_child_weight': [6],\n",
    "              'subsample': [0.8,1],\n",
    "              'colsample_bytree': [0.4],\n",
    "              'n_estimators': [325]}\n",
    "\n",
    "xgb_grid = GridSearchCV(xgb,\n",
    "                        parameters,\n",
    "                        cv = 5,\n",
    "                        n_jobs = 5,\n",
    "                        verbose=True)\n",
    "\n",
    "xgb_grid.fit(X_train,\n",
    "         y_train)\n",
    "\n",
    "print(xgb_grid.best_score_)\n",
    "print(xgb_grid.best_params_)"
   ]
  },
  {
   "cell_type": "code",
   "execution_count": 471,
   "id": "d7f3f48d",
   "metadata": {},
   "outputs": [
    {
     "name": "stdout",
     "output_type": "stream",
     "text": [
      "Cross validation scores of 5 linear regressions: [0.55110688 0.64991657 0.61588647 0.6085078  0.59470885]\n",
      "Mean cross validation train score:  0.604\n",
      "Standard deviation in cv scores:  0.032\n",
      "Linear regression r2 score on the training data:  0.803\n",
      "Linear regression r2 score on the test data:  0.605\n",
      "Root Mean Squared Error:  1.847\n"
     ]
    }
   ],
   "source": [
    "xgb= XGBRegressor(colsample_bytree= 0.4, learning_rate= 0.05, max_depth= 4, \n",
    "                      min_child_weight= 6, n_estimators= 325,\n",
    "                      objective= 'reg:squarederror', subsample= 1)\n",
    "\n",
    "\n",
    "scores = cross_val_score(xgb,X_train,y_train,scoring='r2',cv=5)\n",
    "print('Cross validation scores of 5 linear regressions:',scores)\n",
    "print ('Mean cross validation train score: ',round(np.mean(scores),3))\n",
    "print ('Standard deviation in cv scores: ',round(np.std(scores),3))\n",
    "xgb.fit(X_train,y_train)\n",
    "print('Linear regression r2 score on the training data: ',round(xgb.score(X_train,y_train),3))\n",
    "print('Linear regression r2 score on the test data: ',round(xgb.score(X_test,y_test),3))\n",
    "y_pred = xgb.predict(X_test)\n",
    "lr_rmse = (mean_squared_error(y_test, y_pred,squared=False))\n",
    "print('Root Mean Squared Error: ',round(lr_rmse,3))\n",
    "\n"
   ]
  },
  {
   "cell_type": "markdown",
   "id": "8ed47eb9",
   "metadata": {},
   "source": [
    "This model is the best of our models. It can account for 60% of the variance in the test data revenue with a root mean squared error of 1.847. Though one should keep in mind that we have taken the log of our target variable, given the large size of the numbers in question, this is still not an exorbitant amount. \n",
    "\n",
    "An examination of the distributions of our predicted and test values reaffirms the fit of this model."
   ]
  },
  {
   "cell_type": "code",
   "execution_count": 472,
   "id": "4552dc87",
   "metadata": {},
   "outputs": [
    {
     "data": {
      "image/png": "[encoded data removed]",
      "text/plain": [
       "<Figure size 432x288 with 1 Axes>"
      ]
     },
     "metadata": {
      "needs_background": "light"
     },
     "output_type": "display_data"
    }
   ],
   "source": [
    "data = pd.DataFrame(data=y_pred,columns=['predicted values'])\n",
    "data['test values']=(y_test)\n",
    "\n",
    "\n",
    "#sns.scatterplot(np.log(data['actual']),np.log(data['test']))\n",
    "a =plt.hist(data['test values'],bins=30,color='blue')\n",
    "b =plt.hist(data['predicted values'],alpha=0.5,bins=30,color='red')\n",
    "\n",
    "\n",
    "red_patch = mpatches.Patch(color='red', label='Predicted values')\n",
    "blue_patch = mpatches.Patch(color='blue',label='Test values')\n",
    "plt.legend(handles=[red_patch,blue_patch])\n",
    "plt.ylabel('Count')\n",
    "plt.xlabel('Log of film revenue')\n",
    "plt.title('Predicted and test value distributions')\n",
    "plt.show()\n"
   ]
  },
  {
   "cell_type": "code",
   "execution_count": 507,
   "id": "cd88d0bf",
   "metadata": {},
   "outputs": [
    {
     "data": {
      "image/png": "[encoded data removed]",
      "text/plain": [
       "<Figure size 432x288 with 1 Axes>"
      ]
     },
     "metadata": {
      "needs_background": "light"
     },
     "output_type": "display_data"
    }
   ],
   "source": [
    "data = pd.DataFrame(data=y_pred,columns=['predicted values'])\n",
    "data['test values']=(y_test)\n",
    "\n",
    "\n",
    "#sns.scatterplot(np.log(data['actual']),np.log(data['test']))\n",
    "a =plt.hist(np.exp(data['test values']),bins=30,color='blue')\n",
    "b =plt.hist(np.exp(data['predicted values']),alpha=0.5,bins=30,color='red')\n",
    "\n",
    "\n",
    "red_patch = mpatches.Patch(color='red', label='Predicted values')\n",
    "blue_patch = mpatches.Patch(color='blue',label='Test values')\n",
    "plt.legend(handles=[red_patch,blue_patch])\n",
    "plt.ylabel('Count')\n",
    "plt.xlabel('Film revenue ($)')\n",
    "plt.title('Predicted and test value distributions')\n",
    "plt.show()\n"
   ]
  },
  {
   "cell_type": "code",
   "execution_count": 505,
   "id": "69207d23",
   "metadata": {},
   "outputs": [
    {
     "data": {
      "image/png": "[encoded data removed]",
      "text/plain": [
       "<Figure size 432x288 with 1 Axes>"
      ]
     },
     "metadata": {
      "needs_background": "light"
     },
     "output_type": "display_data"
    }
   ],
   "source": [
    "sorted_idx = xgb.feature_importances_.argsort()[::-1][:20]\n",
    "\n",
    "\n",
    "plt.barh(X_train.columns[sorted_idx][::-1], xgb.feature_importances_[sorted_idx][::-1])\n",
    "plt.title('Most important features for determining revenue')\n",
    "plt.show()"
   ]
  },
  {
   "cell_type": "markdown",
   "id": "b964a8fa",
   "metadata": {},
   "source": [
    "The most important feature for determining revenue according to our model is by far budget. Other important features relate to the gender of the crew and cast (male heavy films earn more), the existence of various marketing features (tagline, keywords), whether a film was part of a collection/series, the genre, original language, spoken language, whether or not it was an American production, and year of release. Casting director Kerry Barden is also heavily associated with high revenue. Popularity is the fourth most important feature in determining revenue according to our model, which is something of a flaw of any model built using this data, as popularity is our most uncertain feature – it serves us as something of a proxy for film quality, but can only be determined after the release of a film, which means it is our only feature that cannot be used to predict revenue for not yet released films. "
   ]
  },
  {
   "cell_type": "markdown",
   "id": "221289da",
   "metadata": {},
   "source": [
    "Ultimately, this XGBoost model is our model of choice. It is by no means a perfect model, with an r2 of only 0.6, but its comparitively low root mean squared error shows that we have a decent model for predicting film revenue that could still provide some utility, as do its measures of most important features, which give us a good idea of the most important factors in film revenue and bode very well for Kerry Barden's career."
   ]
  },
  {
   "cell_type": "code",
   "execution_count": null,
   "id": "03389937",
   "metadata": {},
   "outputs": [],
   "source": []
  }
 ],
 "metadata": {
  "kernelspec": {
   "display_name": "Python 3 (ipykernel)",
   "language": "python",
   "name": "python3"
  },
  "language_info": {
   "codemirror_mode": {
    "name": "ipython",
    "version": 3
   },
   "file_extension": ".py",
   "mimetype": "text/x-python",
   "name": "python",
   "nbconvert_exporter": "python",
   "pygments_lexer": "ipython3",
   "version": "3.9.7"
  }
 },
 "nbformat": 4,
 "nbformat_minor": 5
}
