{
 "cells": [
  {
   "cell_type": "code",
   "execution_count": 102,
   "id": "ee2044f4",
   "metadata": {},
   "outputs": [],
   "source": [
    "import pandas as pd\n",
    "import numpy as np\n",
    "\n",
    "import matplotlib.pyplot as plt\n",
    "import seaborn as sns\n"
   ]
  },
  {
   "cell_type": "code",
   "execution_count": 103,
   "id": "97781ed4",
   "metadata": {},
   "outputs": [],
   "source": [
    "df = pd.read_csv('movies.csv')"
   ]
  },
  {
   "cell_type": "markdown",
   "id": "62548744",
   "metadata": {},
   "source": [
    "We have already cleaned and explored the quantitative variables fairly extensively in our previous notebook (data_wrangling). We will now turn to categorical variables and do some further exploration on the affect of genre on revenue."
   ]
  },
  {
   "cell_type": "code",
   "execution_count": 104,
   "id": "637bd27b",
   "metadata": {},
   "outputs": [],
   "source": [
    "\n",
    "df.drop(labels=['Unnamed: 0'],axis=1,inplace=True)\n"
   ]
  },
  {
   "cell_type": "code",
   "execution_count": 105,
   "id": "634b043a",
   "metadata": {},
   "outputs": [
    {
     "data": {
      "text/html": [
       "<div>\n",
       "<style scoped>\n",
       "    .dataframe tbody tr th:only-of-type {\n",
       "        vertical-align: middle;\n",
       "    }\n",
       "\n",
       "    .dataframe tbody tr th {\n",
       "        vertical-align: top;\n",
       "    }\n",
       "\n",
       "    .dataframe thead th {\n",
       "        text-align: right;\n",
       "    }\n",
       "</style>\n",
       "<table border=\"1\" class=\"dataframe\">\n",
       "  <thead>\n",
       "    <tr style=\"text-align: right;\">\n",
       "      <th></th>\n",
       "      <th>budget</th>\n",
       "      <th>genres</th>\n",
       "      <th>original_language</th>\n",
       "      <th>popularity</th>\n",
       "      <th>release_date</th>\n",
       "      <th>runtime</th>\n",
       "      <th>Keywords</th>\n",
       "      <th>cast</th>\n",
       "      <th>crew</th>\n",
       "      <th>revenue</th>\n",
       "      <th>...</th>\n",
       "      <th>Universal Pictures</th>\n",
       "      <th>Warner Bros.</th>\n",
       "      <th>Metro-Goldwyn-Mayer (MGM)</th>\n",
       "      <th>Fox</th>\n",
       "      <th>Columbia Pictures</th>\n",
       "      <th>Walt Disney Pictures</th>\n",
       "      <th>lang_num</th>\n",
       "      <th>has_tagline</th>\n",
       "      <th>cast_size</th>\n",
       "      <th>crew_size</th>\n",
       "    </tr>\n",
       "  </thead>\n",
       "  <tbody>\n",
       "    <tr>\n",
       "      <th>0</th>\n",
       "      <td>14000000.0</td>\n",
       "      <td>[{'id': 35, 'name': 'Comedy'}]</td>\n",
       "      <td>en</td>\n",
       "      <td>6.575393</td>\n",
       "      <td>2015-02-20</td>\n",
       "      <td>93.0</td>\n",
       "      <td>[{'id': 4379, 'name': 'time travel'}, {'id': 9...</td>\n",
       "      <td>[{'cast_id': 4, 'character': 'Lou', 'credit_id...</td>\n",
       "      <td>[{'credit_id': '59ac067c92514107af02c8c8', 'de...</td>\n",
       "      <td>12314651</td>\n",
       "      <td>...</td>\n",
       "      <td>0</td>\n",
       "      <td>0</td>\n",
       "      <td>1</td>\n",
       "      <td>0</td>\n",
       "      <td>0</td>\n",
       "      <td>0</td>\n",
       "      <td>1.0</td>\n",
       "      <td>1</td>\n",
       "      <td>24.0</td>\n",
       "      <td>72.0</td>\n",
       "    </tr>\n",
       "    <tr>\n",
       "      <th>1</th>\n",
       "      <td>40000000.0</td>\n",
       "      <td>[{'id': 35, 'name': 'Comedy'}, {'id': 18, 'nam...</td>\n",
       "      <td>en</td>\n",
       "      <td>8.248895</td>\n",
       "      <td>2004-08-06</td>\n",
       "      <td>113.0</td>\n",
       "      <td>[{'id': 2505, 'name': 'coronation'}, {'id': 42...</td>\n",
       "      <td>[{'cast_id': 1, 'character': 'Mia Thermopolis'...</td>\n",
       "      <td>[{'credit_id': '52fe43fe9251416c7502563d', 'de...</td>\n",
       "      <td>95149435</td>\n",
       "      <td>...</td>\n",
       "      <td>0</td>\n",
       "      <td>0</td>\n",
       "      <td>0</td>\n",
       "      <td>0</td>\n",
       "      <td>0</td>\n",
       "      <td>1</td>\n",
       "      <td>1.0</td>\n",
       "      <td>1</td>\n",
       "      <td>20.0</td>\n",
       "      <td>9.0</td>\n",
       "    </tr>\n",
       "    <tr>\n",
       "      <th>2</th>\n",
       "      <td>3300000.0</td>\n",
       "      <td>[{'id': 18, 'name': 'Drama'}]</td>\n",
       "      <td>en</td>\n",
       "      <td>64.299990</td>\n",
       "      <td>2014-10-10</td>\n",
       "      <td>105.0</td>\n",
       "      <td>[{'id': 1416, 'name': 'jazz'}, {'id': 1523, 'n...</td>\n",
       "      <td>[{'cast_id': 5, 'character': 'Andrew Neimann',...</td>\n",
       "      <td>[{'credit_id': '54d5356ec3a3683ba0000039', 'de...</td>\n",
       "      <td>13092000</td>\n",
       "      <td>...</td>\n",
       "      <td>0</td>\n",
       "      <td>0</td>\n",
       "      <td>0</td>\n",
       "      <td>0</td>\n",
       "      <td>0</td>\n",
       "      <td>0</td>\n",
       "      <td>1.0</td>\n",
       "      <td>1</td>\n",
       "      <td>51.0</td>\n",
       "      <td>64.0</td>\n",
       "    </tr>\n",
       "    <tr>\n",
       "      <th>3</th>\n",
       "      <td>1200000.0</td>\n",
       "      <td>[{'id': 53, 'name': 'Thriller'}, {'id': 18, 'n...</td>\n",
       "      <td>hi</td>\n",
       "      <td>3.174936</td>\n",
       "      <td>2012-03-09</td>\n",
       "      <td>122.0</td>\n",
       "      <td>[{'id': 10092, 'name': 'mystery'}, {'id': 1054...</td>\n",
       "      <td>[{'cast_id': 1, 'character': 'Vidya Bagchi', '...</td>\n",
       "      <td>[{'credit_id': '52fe48779251416c9108d6eb', 'de...</td>\n",
       "      <td>16000000</td>\n",
       "      <td>...</td>\n",
       "      <td>0</td>\n",
       "      <td>0</td>\n",
       "      <td>0</td>\n",
       "      <td>0</td>\n",
       "      <td>0</td>\n",
       "      <td>0</td>\n",
       "      <td>2.0</td>\n",
       "      <td>0</td>\n",
       "      <td>7.0</td>\n",
       "      <td>3.0</td>\n",
       "    </tr>\n",
       "    <tr>\n",
       "      <th>4</th>\n",
       "      <td>NaN</td>\n",
       "      <td>[{'id': 28, 'name': 'Action'}, {'id': 53, 'nam...</td>\n",
       "      <td>ko</td>\n",
       "      <td>1.148070</td>\n",
       "      <td>2009-02-05</td>\n",
       "      <td>118.0</td>\n",
       "      <td>NaN</td>\n",
       "      <td>[{'cast_id': 3, 'character': 'Chun-soo', 'cred...</td>\n",
       "      <td>[{'credit_id': '52fe464b9251416c75073b43', 'de...</td>\n",
       "      <td>3923970</td>\n",
       "      <td>...</td>\n",
       "      <td>0</td>\n",
       "      <td>0</td>\n",
       "      <td>0</td>\n",
       "      <td>0</td>\n",
       "      <td>0</td>\n",
       "      <td>0</td>\n",
       "      <td>1.0</td>\n",
       "      <td>0</td>\n",
       "      <td>4.0</td>\n",
       "      <td>2.0</td>\n",
       "    </tr>\n",
       "  </tbody>\n",
       "</table>\n",
       "<p>5 rows × 26 columns</p>\n",
       "</div>"
      ],
      "text/plain": [
       "       budget                                             genres  \\\n",
       "0  14000000.0                     [{'id': 35, 'name': 'Comedy'}]   \n",
       "1  40000000.0  [{'id': 35, 'name': 'Comedy'}, {'id': 18, 'nam...   \n",
       "2   3300000.0                      [{'id': 18, 'name': 'Drama'}]   \n",
       "3   1200000.0  [{'id': 53, 'name': 'Thriller'}, {'id': 18, 'n...   \n",
       "4         NaN  [{'id': 28, 'name': 'Action'}, {'id': 53, 'nam...   \n",
       "\n",
       "  original_language  popularity release_date  runtime  \\\n",
       "0                en    6.575393   2015-02-20     93.0   \n",
       "1                en    8.248895   2004-08-06    113.0   \n",
       "2                en   64.299990   2014-10-10    105.0   \n",
       "3                hi    3.174936   2012-03-09    122.0   \n",
       "4                ko    1.148070   2009-02-05    118.0   \n",
       "\n",
       "                                            Keywords  \\\n",
       "0  [{'id': 4379, 'name': 'time travel'}, {'id': 9...   \n",
       "1  [{'id': 2505, 'name': 'coronation'}, {'id': 42...   \n",
       "2  [{'id': 1416, 'name': 'jazz'}, {'id': 1523, 'n...   \n",
       "3  [{'id': 10092, 'name': 'mystery'}, {'id': 1054...   \n",
       "4                                                NaN   \n",
       "\n",
       "                                                cast  \\\n",
       "0  [{'cast_id': 4, 'character': 'Lou', 'credit_id...   \n",
       "1  [{'cast_id': 1, 'character': 'Mia Thermopolis'...   \n",
       "2  [{'cast_id': 5, 'character': 'Andrew Neimann',...   \n",
       "3  [{'cast_id': 1, 'character': 'Vidya Bagchi', '...   \n",
       "4  [{'cast_id': 3, 'character': 'Chun-soo', 'cred...   \n",
       "\n",
       "                                                crew   revenue  ...  \\\n",
       "0  [{'credit_id': '59ac067c92514107af02c8c8', 'de...  12314651  ...   \n",
       "1  [{'credit_id': '52fe43fe9251416c7502563d', 'de...  95149435  ...   \n",
       "2  [{'credit_id': '54d5356ec3a3683ba0000039', 'de...  13092000  ...   \n",
       "3  [{'credit_id': '52fe48779251416c9108d6eb', 'de...  16000000  ...   \n",
       "4  [{'credit_id': '52fe464b9251416c75073b43', 'de...   3923970  ...   \n",
       "\n",
       "   Universal Pictures  Warner Bros. Metro-Goldwyn-Mayer (MGM) Fox  \\\n",
       "0                   0             0                         1   0   \n",
       "1                   0             0                         0   0   \n",
       "2                   0             0                         0   0   \n",
       "3                   0             0                         0   0   \n",
       "4                   0             0                         0   0   \n",
       "\n",
       "   Columbia Pictures  Walt Disney Pictures  lang_num  has_tagline  cast_size  \\\n",
       "0                  0                     0       1.0            1       24.0   \n",
       "1                  0                     1       1.0            1       20.0   \n",
       "2                  0                     0       1.0            1       51.0   \n",
       "3                  0                     0       2.0            0        7.0   \n",
       "4                  0                     0       1.0            0        4.0   \n",
       "\n",
       "   crew_size  \n",
       "0       72.0  \n",
       "1        9.0  \n",
       "2       64.0  \n",
       "3        3.0  \n",
       "4        2.0  \n",
       "\n",
       "[5 rows x 26 columns]"
      ]
     },
     "execution_count": 105,
     "metadata": {},
     "output_type": "execute_result"
    }
   ],
   "source": [
    "df.head()"
   ]
  },
  {
   "cell_type": "code",
   "execution_count": 106,
   "id": "00244fe8",
   "metadata": {},
   "outputs": [
    {
     "data": {
      "text/plain": [
       "Index(['budget', 'genres', 'original_language', 'popularity', 'release_date',\n",
       "       'runtime', 'Keywords', 'cast', 'crew', 'revenue', 'homepage_bool',\n",
       "       'belongs_to_collection_bool', 'prod_companies', 'prod_country',\n",
       "       'usa_production', 'Paramount Pictures', 'Universal Pictures',\n",
       "       'Warner Bros.', 'Metro-Goldwyn-Mayer (MGM)', 'Fox', 'Columbia Pictures',\n",
       "       'Walt Disney Pictures', 'lang_num', 'has_tagline', 'cast_size',\n",
       "       'crew_size'],\n",
       "      dtype='object')"
      ]
     },
     "execution_count": 106,
     "metadata": {},
     "output_type": "execute_result"
    }
   ],
   "source": [
    "df.columns"
   ]
  },
  {
   "cell_type": "code",
   "execution_count": 107,
   "id": "f92407dc",
   "metadata": {},
   "outputs": [],
   "source": [
    "df['release_date'] = df['release_date'].apply(pd.to_datetime)"
   ]
  },
  {
   "cell_type": "code",
   "execution_count": 108,
   "id": "1af8c0ba",
   "metadata": {},
   "outputs": [],
   "source": [
    "df['year'] = df['release_date'].dt.year\n",
    "df['month'] = df['release_date'].dt.month\n",
    "df['weekday'] = (df['release_date'].dt.weekday < 5).astype(int)"
   ]
  },
  {
   "cell_type": "code",
   "execution_count": 109,
   "id": "b2c456aa",
   "metadata": {},
   "outputs": [],
   "source": [
    "\n",
    "\n",
    "def get_dictionary(s):\n",
    "    try:\n",
    "        d = eval(s)\n",
    "    except:\n",
    "        d = {}\n",
    "    return d\n"
   ]
  },
  {
   "cell_type": "code",
   "execution_count": null,
   "id": "15254efe",
   "metadata": {},
   "outputs": [],
   "source": []
  },
  {
   "cell_type": "code",
   "execution_count": 110,
   "id": "33da570c",
   "metadata": {},
   "outputs": [
    {
     "name": "stderr",
     "output_type": "stream",
     "text": [
      "/Library/Frameworks/Python.framework/Versions/3.9/lib/python3.9/site-packages/pandas/core/indexing.py:1732: SettingWithCopyWarning: \n",
      "A value is trying to be set on a copy of a slice from a DataFrame\n",
      "\n",
      "See the caveats in the documentation: https://pandas.pydata.org/pandas-docs/stable/user_guide/indexing.html#returning-a-view-versus-a-copy\n",
      "  self._setitem_single_block(indexer, value, name)\n"
     ]
    }
   ],
   "source": [
    "\n",
    "df['genre_name'] = pd.Series(dtype='object')\n",
    "j = 0\n",
    "for i in df['genres']:\n",
    "    d = get_dictionary(i)\n",
    "    if d != {}:\n",
    "        df['genre_name'].iloc[j] = [d[x]['name'] for x in range(0,len(d))]\n",
    "\n",
    "    else:\n",
    "         df['genre_name'].iloc[j] = np.NaN\n",
    "    j += 1\n",
    "df.is_copy = False"
   ]
  },
  {
   "cell_type": "code",
   "execution_count": 111,
   "id": "dc2ab09d",
   "metadata": {},
   "outputs": [],
   "source": [
    "df.drop(labels=['genres'],axis=1,inplace=True)"
   ]
  },
  {
   "cell_type": "markdown",
   "id": "22749558",
   "metadata": {},
   "source": [
    "We will examine the primary and secondary genres of each movie. Some movies have a large number of genres (5+), while the majority have just 1-2. Less than half have a third genre."
   ]
  },
  {
   "cell_type": "code",
   "execution_count": 112,
   "id": "feecfecd",
   "metadata": {},
   "outputs": [
    {
     "name": "stdout",
     "output_type": "stream",
     "text": [
      "7\n",
      "0\n"
     ]
    }
   ],
   "source": [
    "df['main_genre'] = \"\"\n",
    "print(df['genre_name'].isna().sum())\n",
    "df['genre_name'].fillna('None',inplace=True)\n",
    "print(df['genre_name'].isna().sum())"
   ]
  },
  {
   "cell_type": "code",
   "execution_count": 113,
   "id": "48b58631",
   "metadata": {},
   "outputs": [],
   "source": [
    "ind = 0\n",
    "for sublist in df['genre_name']:\n",
    "    if sublist!= 'None':\n",
    "        df['main_genre'].loc[ind] = sublist[0]\n",
    "    else:\n",
    "        df['main_genre'].loc[ind] = sublist\n",
    "    ind +=1"
   ]
  },
  {
   "cell_type": "code",
   "execution_count": 114,
   "id": "f327221f",
   "metadata": {},
   "outputs": [
    {
     "data": {
      "text/plain": [
       "main_genre\n",
       "Action             9.359660e+07\n",
       "Adventure          1.877155e+08\n",
       "Animation          1.480897e+08\n",
       "Comedy             4.775484e+07\n",
       "Crime              4.082005e+07\n",
       "Documentary        3.538250e+06\n",
       "Drama              3.729875e+07\n",
       "Family             1.573475e+08\n",
       "Fantasy            8.234511e+07\n",
       "Foreign            1.406500e+05\n",
       "History            4.423782e+07\n",
       "Horror             4.958685e+07\n",
       "Music              3.389038e+07\n",
       "Mystery            4.767484e+07\n",
       "None               1.110844e+06\n",
       "Romance            5.164857e+07\n",
       "Science Fiction    1.638338e+08\n",
       "TV Movie           4.200000e+07\n",
       "Thriller           5.657442e+07\n",
       "War                2.438851e+07\n",
       "Western            6.490571e+07\n",
       "Name: revenue, dtype: float64"
      ]
     },
     "execution_count": 114,
     "metadata": {},
     "output_type": "execute_result"
    }
   ],
   "source": [
    "#Average revenue by main genre\n",
    "genre_avg_rev = df.groupby('main_genre')['revenue'].mean()\n",
    "genre_avg_rev"
   ]
  },
  {
   "cell_type": "code",
   "execution_count": 115,
   "id": "fad9166b",
   "metadata": {},
   "outputs": [
    {
     "data": {
      "text/plain": [
       "Drama              785\n",
       "Comedy             604\n",
       "Action             520\n",
       "Adventure          187\n",
       "Horror             170\n",
       "Crime              147\n",
       "Thriller           116\n",
       "Animation           76\n",
       "Documentary         71\n",
       "Fantasy             68\n",
       "Romance             67\n",
       "Science Fiction     41\n",
       "Family              36\n",
       "Mystery             33\n",
       "War                 20\n",
       "Music               20\n",
       "History             16\n",
       "Western             13\n",
       "None                 7\n",
       "Foreign              2\n",
       "TV Movie             1\n",
       "Name: main_genre, dtype: int64"
      ]
     },
     "execution_count": 115,
     "metadata": {},
     "output_type": "execute_result"
    }
   ],
   "source": [
    "df['main_genre'].value_counts()"
   ]
  },
  {
   "cell_type": "code",
   "execution_count": 116,
   "id": "91a86f8f",
   "metadata": {},
   "outputs": [
    {
     "data": {
      "image/png": "[encoded data removed]",
      "text/plain": [
       "<Figure size 432x288 with 1 Axes>"
      ]
     },
     "metadata": {
      "needs_background": "light"
     },
     "output_type": "display_data"
    }
   ],
   "source": [
    "sns.histplot(x=genre_avg_rev,bins=30)\n",
    "plt.title('Distribution of main genre averaged revenue')\n",
    "plt.xlabel('Mean genre box office revenue')\n",
    "plt.ylabel('count')\n",
    "plt.show()"
   ]
  },
  {
   "cell_type": "markdown",
   "id": "de91703f",
   "metadata": {},
   "source": [
    "We can see that the revenue distributions of films by main genre differ."
   ]
  },
  {
   "cell_type": "code",
   "execution_count": 117,
   "id": "a9cf3e52",
   "metadata": {},
   "outputs": [
    {
     "data": {
      "image/png": "[encoded data removed]",
      "text/plain": [
       "<Figure size 1296x576 with 1 Axes>"
      ]
     },
     "metadata": {
      "needs_background": "light"
     },
     "output_type": "display_data"
    }
   ],
   "source": [
    "plt.subplots(figsize=(18,8))\n",
    "sns.boxplot(x='main_genre',y='revenue',data=df)\n",
    "plt.xlabel('Main genre')\n",
    "plt.xticks(rotation='vertical')\n",
    "plt.ylabel('Revenue')\n",
    "plt.title('Revenue by main genre')\n",
    "plt.show()"
   ]
  },
  {
   "cell_type": "code",
   "execution_count": null,
   "id": "9cf769af",
   "metadata": {},
   "outputs": [],
   "source": []
  },
  {
   "cell_type": "markdown",
   "id": "86a7b5f8",
   "metadata": {},
   "source": [
    "We can clearly see that even just looking at the main genre the revenue distributions show differences that might be useful. We will therefore now create dummy variables for tracking all the genres associated with a film, first by main genre, then by adding other genres listed."
   ]
  },
  {
   "cell_type": "code",
   "execution_count": 118,
   "id": "617676f0",
   "metadata": {},
   "outputs": [
    {
     "data": {
      "text/html": [
       "<div>\n",
       "<style scoped>\n",
       "    .dataframe tbody tr th:only-of-type {\n",
       "        vertical-align: middle;\n",
       "    }\n",
       "\n",
       "    .dataframe tbody tr th {\n",
       "        vertical-align: top;\n",
       "    }\n",
       "\n",
       "    .dataframe thead th {\n",
       "        text-align: right;\n",
       "    }\n",
       "</style>\n",
       "<table border=\"1\" class=\"dataframe\">\n",
       "  <thead>\n",
       "    <tr style=\"text-align: right;\">\n",
       "      <th></th>\n",
       "      <th>budget</th>\n",
       "      <th>original_language</th>\n",
       "      <th>popularity</th>\n",
       "      <th>release_date</th>\n",
       "      <th>runtime</th>\n",
       "      <th>Keywords</th>\n",
       "      <th>cast</th>\n",
       "      <th>crew</th>\n",
       "      <th>revenue</th>\n",
       "      <th>homepage_bool</th>\n",
       "      <th>...</th>\n",
       "      <th>Horror</th>\n",
       "      <th>Music</th>\n",
       "      <th>Mystery</th>\n",
       "      <th>None</th>\n",
       "      <th>Romance</th>\n",
       "      <th>Science Fiction</th>\n",
       "      <th>TV Movie</th>\n",
       "      <th>Thriller</th>\n",
       "      <th>War</th>\n",
       "      <th>Western</th>\n",
       "    </tr>\n",
       "  </thead>\n",
       "  <tbody>\n",
       "    <tr>\n",
       "      <th>0</th>\n",
       "      <td>14000000.0</td>\n",
       "      <td>en</td>\n",
       "      <td>6.575393</td>\n",
       "      <td>2015-02-20</td>\n",
       "      <td>93.0</td>\n",
       "      <td>[{'id': 4379, 'name': 'time travel'}, {'id': 9...</td>\n",
       "      <td>[{'cast_id': 4, 'character': 'Lou', 'credit_id...</td>\n",
       "      <td>[{'credit_id': '59ac067c92514107af02c8c8', 'de...</td>\n",
       "      <td>12314651</td>\n",
       "      <td>0</td>\n",
       "      <td>...</td>\n",
       "      <td>0</td>\n",
       "      <td>0</td>\n",
       "      <td>0</td>\n",
       "      <td>0</td>\n",
       "      <td>0</td>\n",
       "      <td>0</td>\n",
       "      <td>0</td>\n",
       "      <td>0</td>\n",
       "      <td>0</td>\n",
       "      <td>0</td>\n",
       "    </tr>\n",
       "    <tr>\n",
       "      <th>1</th>\n",
       "      <td>40000000.0</td>\n",
       "      <td>en</td>\n",
       "      <td>8.248895</td>\n",
       "      <td>2004-08-06</td>\n",
       "      <td>113.0</td>\n",
       "      <td>[{'id': 2505, 'name': 'coronation'}, {'id': 42...</td>\n",
       "      <td>[{'cast_id': 1, 'character': 'Mia Thermopolis'...</td>\n",
       "      <td>[{'credit_id': '52fe43fe9251416c7502563d', 'de...</td>\n",
       "      <td>95149435</td>\n",
       "      <td>0</td>\n",
       "      <td>...</td>\n",
       "      <td>0</td>\n",
       "      <td>0</td>\n",
       "      <td>0</td>\n",
       "      <td>0</td>\n",
       "      <td>0</td>\n",
       "      <td>0</td>\n",
       "      <td>0</td>\n",
       "      <td>0</td>\n",
       "      <td>0</td>\n",
       "      <td>0</td>\n",
       "    </tr>\n",
       "    <tr>\n",
       "      <th>2</th>\n",
       "      <td>3300000.0</td>\n",
       "      <td>en</td>\n",
       "      <td>64.299990</td>\n",
       "      <td>2014-10-10</td>\n",
       "      <td>105.0</td>\n",
       "      <td>[{'id': 1416, 'name': 'jazz'}, {'id': 1523, 'n...</td>\n",
       "      <td>[{'cast_id': 5, 'character': 'Andrew Neimann',...</td>\n",
       "      <td>[{'credit_id': '54d5356ec3a3683ba0000039', 'de...</td>\n",
       "      <td>13092000</td>\n",
       "      <td>1</td>\n",
       "      <td>...</td>\n",
       "      <td>0</td>\n",
       "      <td>0</td>\n",
       "      <td>0</td>\n",
       "      <td>0</td>\n",
       "      <td>0</td>\n",
       "      <td>0</td>\n",
       "      <td>0</td>\n",
       "      <td>0</td>\n",
       "      <td>0</td>\n",
       "      <td>0</td>\n",
       "    </tr>\n",
       "    <tr>\n",
       "      <th>3</th>\n",
       "      <td>1200000.0</td>\n",
       "      <td>hi</td>\n",
       "      <td>3.174936</td>\n",
       "      <td>2012-03-09</td>\n",
       "      <td>122.0</td>\n",
       "      <td>[{'id': 10092, 'name': 'mystery'}, {'id': 1054...</td>\n",
       "      <td>[{'cast_id': 1, 'character': 'Vidya Bagchi', '...</td>\n",
       "      <td>[{'credit_id': '52fe48779251416c9108d6eb', 'de...</td>\n",
       "      <td>16000000</td>\n",
       "      <td>1</td>\n",
       "      <td>...</td>\n",
       "      <td>0</td>\n",
       "      <td>0</td>\n",
       "      <td>0</td>\n",
       "      <td>0</td>\n",
       "      <td>0</td>\n",
       "      <td>0</td>\n",
       "      <td>0</td>\n",
       "      <td>1</td>\n",
       "      <td>0</td>\n",
       "      <td>0</td>\n",
       "    </tr>\n",
       "    <tr>\n",
       "      <th>4</th>\n",
       "      <td>NaN</td>\n",
       "      <td>ko</td>\n",
       "      <td>1.148070</td>\n",
       "      <td>2009-02-05</td>\n",
       "      <td>118.0</td>\n",
       "      <td>NaN</td>\n",
       "      <td>[{'cast_id': 3, 'character': 'Chun-soo', 'cred...</td>\n",
       "      <td>[{'credit_id': '52fe464b9251416c75073b43', 'de...</td>\n",
       "      <td>3923970</td>\n",
       "      <td>0</td>\n",
       "      <td>...</td>\n",
       "      <td>0</td>\n",
       "      <td>0</td>\n",
       "      <td>0</td>\n",
       "      <td>0</td>\n",
       "      <td>0</td>\n",
       "      <td>0</td>\n",
       "      <td>0</td>\n",
       "      <td>0</td>\n",
       "      <td>0</td>\n",
       "      <td>0</td>\n",
       "    </tr>\n",
       "  </tbody>\n",
       "</table>\n",
       "<p>5 rows × 50 columns</p>\n",
       "</div>"
      ],
      "text/plain": [
       "       budget original_language  popularity release_date  runtime  \\\n",
       "0  14000000.0                en    6.575393   2015-02-20     93.0   \n",
       "1  40000000.0                en    8.248895   2004-08-06    113.0   \n",
       "2   3300000.0                en   64.299990   2014-10-10    105.0   \n",
       "3   1200000.0                hi    3.174936   2012-03-09    122.0   \n",
       "4         NaN                ko    1.148070   2009-02-05    118.0   \n",
       "\n",
       "                                            Keywords  \\\n",
       "0  [{'id': 4379, 'name': 'time travel'}, {'id': 9...   \n",
       "1  [{'id': 2505, 'name': 'coronation'}, {'id': 42...   \n",
       "2  [{'id': 1416, 'name': 'jazz'}, {'id': 1523, 'n...   \n",
       "3  [{'id': 10092, 'name': 'mystery'}, {'id': 1054...   \n",
       "4                                                NaN   \n",
       "\n",
       "                                                cast  \\\n",
       "0  [{'cast_id': 4, 'character': 'Lou', 'credit_id...   \n",
       "1  [{'cast_id': 1, 'character': 'Mia Thermopolis'...   \n",
       "2  [{'cast_id': 5, 'character': 'Andrew Neimann',...   \n",
       "3  [{'cast_id': 1, 'character': 'Vidya Bagchi', '...   \n",
       "4  [{'cast_id': 3, 'character': 'Chun-soo', 'cred...   \n",
       "\n",
       "                                                crew   revenue  homepage_bool  \\\n",
       "0  [{'credit_id': '59ac067c92514107af02c8c8', 'de...  12314651              0   \n",
       "1  [{'credit_id': '52fe43fe9251416c7502563d', 'de...  95149435              0   \n",
       "2  [{'credit_id': '54d5356ec3a3683ba0000039', 'de...  13092000              1   \n",
       "3  [{'credit_id': '52fe48779251416c9108d6eb', 'de...  16000000              1   \n",
       "4  [{'credit_id': '52fe464b9251416c75073b43', 'de...   3923970              0   \n",
       "\n",
       "   ...  Horror Music Mystery  None  Romance  Science Fiction  TV Movie  \\\n",
       "0  ...       0     0       0     0        0                0         0   \n",
       "1  ...       0     0       0     0        0                0         0   \n",
       "2  ...       0     0       0     0        0                0         0   \n",
       "3  ...       0     0       0     0        0                0         0   \n",
       "4  ...       0     0       0     0        0                0         0   \n",
       "\n",
       "   Thriller  War  Western  \n",
       "0         0    0        0  \n",
       "1         0    0        0  \n",
       "2         0    0        0  \n",
       "3         1    0        0  \n",
       "4         0    0        0  \n",
       "\n",
       "[5 rows x 50 columns]"
      ]
     },
     "execution_count": 118,
     "metadata": {},
     "output_type": "execute_result"
    }
   ],
   "source": [
    "#create dummy variables for tracking the main genres\n",
    "\n",
    "dummies = pd.get_dummies(df['main_genre'])\n",
    "\n",
    "df = df.drop('main_genre',axis = 1)\n",
    "# Join the encoded df\n",
    "df = df.join(dummies)\n",
    "df.head()"
   ]
  },
  {
   "cell_type": "code",
   "execution_count": 119,
   "id": "677c7a4d",
   "metadata": {},
   "outputs": [
    {
     "data": {
      "text/plain": [
       "Index(['cast_size', 'crew_size', 'year', 'month', 'weekday', 'genre_name',\n",
       "       'Action', 'Adventure', 'Animation', 'Comedy', 'Crime', 'Documentary',\n",
       "       'Drama', 'Family', 'Fantasy', 'Foreign', 'History', 'Horror', 'Music',\n",
       "       'Mystery', 'None', 'Romance', 'Science Fiction', 'TV Movie', 'Thriller',\n",
       "       'War', 'Western'],\n",
       "      dtype='object')"
      ]
     },
     "execution_count": 119,
     "metadata": {},
     "output_type": "execute_result"
    }
   ],
   "source": [
    "df.columns[23:]"
   ]
  },
  {
   "cell_type": "code",
   "execution_count": 120,
   "id": "362c2cfa",
   "metadata": {},
   "outputs": [
    {
     "name": "stderr",
     "output_type": "stream",
     "text": [
      "/Library/Frameworks/Python.framework/Versions/3.9/lib/python3.9/site-packages/pandas/core/indexing.py:1732: SettingWithCopyWarning: \n",
      "A value is trying to be set on a copy of a slice from a DataFrame\n",
      "\n",
      "See the caveats in the documentation: https://pandas.pydata.org/pandas-docs/stable/user_guide/indexing.html#returning-a-view-versus-a-copy\n",
      "  self._setitem_single_block(indexer, value, name)\n"
     ]
    }
   ],
   "source": [
    "ind = 0\n",
    "for sublist in df['genre_name']:\n",
    "    for column in df.columns[23:]:\n",
    "        if column in sublist[1:]:\n",
    "            df[column].loc[ind] += 1\n",
    "    ind += 1\n",
    "    \n"
   ]
  },
  {
   "cell_type": "code",
   "execution_count": 121,
   "id": "e00a1791",
   "metadata": {},
   "outputs": [
    {
     "name": "stdout",
     "output_type": "stream",
     "text": [
      "0                                      [Comedy]\n",
      "1              [Comedy, Drama, Family, Romance]\n",
      "2                                       [Drama]\n",
      "3                             [Thriller, Drama]\n",
      "4                            [Action, Thriller]\n",
      "5                [Animation, Adventure, Family]\n",
      "6                            [Horror, Thriller]\n",
      "7                                 [Documentary]\n",
      "8    [Action, Comedy, Music, Family, Adventure]\n",
      "9                               [Comedy, Music]\n",
      "Name: genre_name, dtype: object\n",
      "0    0\n",
      "1    1\n",
      "2    1\n",
      "3    1\n",
      "4    0\n",
      "5    0\n",
      "6    0\n",
      "7    0\n",
      "8    0\n",
      "9    0\n",
      "Name: Drama, dtype: int64\n",
      "0    1\n",
      "1    1\n",
      "2    0\n",
      "3    0\n",
      "4    0\n",
      "5    0\n",
      "6    0\n",
      "7    0\n",
      "8    1\n",
      "9    1\n",
      "Name: Comedy, dtype: int64\n",
      "1531\n"
     ]
    }
   ],
   "source": [
    "print(df['genre_name'][:10])\n",
    "print(df['Drama'][:10])\n",
    "print(df['Comedy'][:10])\n",
    "print(df['Drama'].sum())"
   ]
  },
  {
   "cell_type": "code",
   "execution_count": 122,
   "id": "6bd0c854",
   "metadata": {},
   "outputs": [],
   "source": [
    "#keywords\n",
    "\n",
    "df['Keywords']\n",
    "\n",
    "df['keywords'] = pd.Series(dtype='object')\n",
    "j = 0\n",
    "for i in df['Keywords']:\n",
    "    d = get_dictionary(i)\n",
    "    if d != {}:\n",
    "        df['keywords'].iloc[j] = [d[x]['name'] for x in range(0,len(d))]\n",
    "\n",
    "    else:\n",
    "         df['keywords'].iloc[j] = np.NaN\n",
    "    j += 1\n",
    "\n",
    "df.drop(labels=['Keywords'],axis=1,inplace=True)"
   ]
  },
  {
   "cell_type": "code",
   "execution_count": null,
   "id": "990897ee",
   "metadata": {},
   "outputs": [],
   "source": []
  },
  {
   "cell_type": "code",
   "execution_count": 123,
   "id": "25d6c8d7",
   "metadata": {},
   "outputs": [
    {
     "data": {
      "text/plain": [
       "['time travel', 'sequel', 'hot tub', 'duringcreditsstinger']"
      ]
     },
     "execution_count": 123,
     "metadata": {},
     "output_type": "execute_result"
    }
   ],
   "source": [
    "df['keywords'][0]"
   ]
  },
  {
   "cell_type": "code",
   "execution_count": 124,
   "id": "1b30c54f",
   "metadata": {},
   "outputs": [
    {
     "name": "stdout",
     "output_type": "stream",
     "text": [
      "3    [mystery, bollywood, police corruption, crime,...\n",
      "4                                                  NaN\n",
      "5                                                  NaN\n",
      "6                                                  NaN\n",
      "7    [journalism, translation, television, manipula...\n",
      "Name: keywords, dtype: object\n",
      "276\n"
     ]
    }
   ],
   "source": [
    "print(df['keywords'][3:8])\n",
    "print(df['keywords'].isna().sum())"
   ]
  },
  {
   "cell_type": "markdown",
   "id": "f1f3aadb",
   "metadata": {},
   "source": [
    "Keyword information, like our remaining information about cast and crew (specific cast & crew names and demographic information), seems too specific to be of particular use for our modeling."
   ]
  },
  {
   "cell_type": "code",
   "execution_count": 126,
   "id": "39bfa578",
   "metadata": {},
   "outputs": [
    {
     "data": {
      "text/plain": [
       "Index(['budget', 'original_language', 'popularity', 'release_date', 'runtime',\n",
       "       'cast', 'crew', 'revenue', 'homepage_bool',\n",
       "       'belongs_to_collection_bool', 'prod_companies', 'prod_country',\n",
       "       'usa_production', 'Paramount Pictures', 'Universal Pictures',\n",
       "       'Warner Bros.', 'Metro-Goldwyn-Mayer (MGM)', 'Fox', 'Columbia Pictures',\n",
       "       'Walt Disney Pictures', 'lang_num', 'has_tagline', 'cast_size',\n",
       "       'crew_size', 'year', 'month', 'weekday', 'genre_name', 'Action',\n",
       "       'Adventure', 'Animation', 'Comedy', 'Crime', 'Documentary', 'Drama',\n",
       "       'Family', 'Fantasy', 'Foreign', 'History', 'Horror', 'Music', 'Mystery',\n",
       "       'None', 'Romance', 'Science Fiction', 'TV Movie', 'Thriller', 'War',\n",
       "       'Western', 'keywords'],\n",
       "      dtype='object')"
      ]
     },
     "execution_count": 126,
     "metadata": {},
     "output_type": "execute_result"
    }
   ],
   "source": [
    "df.columns"
   ]
  },
  {
   "cell_type": "code",
   "execution_count": 95,
   "id": "8d584639",
   "metadata": {
    "scrolled": true
   },
   "outputs": [
    {
     "data": {
      "text/plain": [
       "<AxesSubplot:>"
      ]
     },
     "execution_count": 95,
     "metadata": {},
     "output_type": "execute_result"
    },
    {
     "data": {
      "image/png": "[encoded data removed]",
      "text/plain": [
       "<Figure size 432x288 with 1 Axes>"
      ]
     },
     "metadata": {
      "needs_background": "light"
     },
     "output_type": "display_data"
    }
   ],
   "source": [
    "(df['revenue']).hist(bins=50)"
   ]
  },
  {
   "cell_type": "markdown",
   "id": "68a3da9a",
   "metadata": {},
   "source": [
    "We'll make a correlation matrix to visualize the most significant numerical correlations"
   ]
  },
  {
   "cell_type": "code",
   "execution_count": 68,
   "id": "52d988af",
   "metadata": {},
   "outputs": [
    {
     "data": {
      "image/png": "[encoded data removed]",
      "text/plain": [
       "<Figure size 864x648 with 2 Axes>"
      ]
     },
     "metadata": {
      "needs_background": "light"
     },
     "output_type": "display_data"
    }
   ],
   "source": [
    "\n",
    "#correlation matrix \n",
    "corrmat = df.corr()\n",
    "f, ax = plt.subplots(figsize=(12, 9))\n",
    "hm = sns.heatmap(round(corrmat,2), annot=True, ax=ax, cmap=\"coolwarm\",fmt='.2f',\n",
    "                 linewidths=.05)\n",
    "f.subplots_adjust(top=0.93)\n",
    "t= f.suptitle('Movie Data Feature Correlation for all Movies', fontsize=14)"
   ]
  },
  {
   "cell_type": "markdown",
   "id": "c49d505e",
   "metadata": {},
   "source": [
    "According to our correlation matrix, budget and popularity have the largest correlations with revenue. Cast and crew size also have modest but not particularly strong correlations with revenue."
   ]
  },
  {
   "cell_type": "markdown",
   "id": "3943ceb7",
   "metadata": {},
   "source": [
    "We created dummy variables to track all the genres associated with a film, which seems like a promising feature affecting revenue. We reworked the release date variable to track year and month of release separately. We found correlations between several numerical factors and revenue: popularity, budget, and to a lesser extent, crew and cast size. We will try to investigate these features further in subsequent modeling to see how they relate to one another and further investigate their relationship with our target feature: revenue.\n",
    "\n",
    "The boolean features we created to track the presence of a variety of categorical data during the data wrangling stage do not appear to have a strong relationship with revenue at this point, but that will be truly determined further in modeling."
   ]
  },
  {
   "cell_type": "code",
   "execution_count": 86,
   "id": "bd4c7037",
   "metadata": {},
   "outputs": [
    {
     "name": "stdout",
     "output_type": "stream",
     "text": [
      "Index(['budget', 'popularity', 'runtime', 'revenue', 'homepage_bool',\n",
      "       'belongs_to_collection_bool', 'en_film', 'procoun_num',\n",
      "       'usa_production', 'lang_num', 'released', 'has_tagline', 'cast_size',\n",
      "       'crew_size', 'year', 'month', 'genre_name', 'Action', 'Adventure',\n",
      "       'Animation', 'Comedy', 'Crime', 'Documentary', 'Drama', 'Family',\n",
      "       'Fantasy', 'Foreign', 'History', 'Horror', 'Music', 'Mystery', 'None',\n",
      "       'Romance', 'Science Fiction', 'TV Movie', 'Thriller', 'War', 'Western'],\n",
      "      dtype='object')\n",
      "(3000, 38)\n"
     ]
    }
   ],
   "source": [
    "print(df.columns)\n",
    "print(df.shape)"
   ]
  },
  {
   "cell_type": "markdown",
   "id": "08e3b06b",
   "metadata": {},
   "source": [
    "Ultimately, thanks to the addition of many new dummy variables for genre, our dataset has widened, but we have also rid ourselves of a lot of unnecessary features moving into the next stages of our modeling."
   ]
  },
  {
   "cell_type": "code",
   "execution_count": 92,
   "id": "1b490278",
   "metadata": {},
   "outputs": [],
   "source": [
    "# save the data to movies_post_eda csv file\n",
    "df.to_csv('movies_post_eda.csv')"
   ]
  }
 ],
 "metadata": {
  "kernelspec": {
   "display_name": "Python 3 (ipykernel)",
   "language": "python",
   "name": "python3"
  },
  "language_info": {
   "codemirror_mode": {
    "name": "ipython",
    "version": 3
   },
   "file_extension": ".py",
   "mimetype": "text/x-python",
   "name": "python",
   "nbconvert_exporter": "python",
   "pygments_lexer": "ipython3",
   "version": "3.9.7"
  }
 },
 "nbformat": 4,
 "nbformat_minor": 5
}
